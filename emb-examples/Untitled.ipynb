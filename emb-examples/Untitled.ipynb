{
 "cells": [
  {
   "cell_type": "code",
   "execution_count": 1,
   "metadata": {},
   "outputs": [],
   "source": [
    "import os"
   ]
  },
  {
   "cell_type": "code",
   "execution_count": 2,
   "metadata": {},
   "outputs": [],
   "source": [
    "awe_vec_fn = \"merge_acoustic_vec.tsv\"\n",
    "awe_word_fn = \"merge_acoustic_word.tsv\"\n",
    "agwe_vec_fn = \"merge_vec.tsv\"\n",
    "agwe_word_fn = \"merge_word.tsv\""
   ]
  },
  {
   "cell_type": "code",
   "execution_count": 15,
   "metadata": {},
   "outputs": [],
   "source": [
    "awe_v_f = open(awe_vec_fn, 'r')\n",
    "awe_w_f = open(awe_word_fn, 'r')\n",
    "agwe_v_f = open(agwe_vec_fn, 'r')\n",
    "agwe_w_f = open(agwe_word_fn, 'r')"
   ]
  },
  {
   "cell_type": "code",
   "execution_count": 16,
   "metadata": {},
   "outputs": [],
   "source": [
    "all_w_f = open(\"labels.tsv\", 'w')\n",
    "all_v_f = open(\"vectors.tsv\", 'w')"
   ]
  },
  {
   "cell_type": "code",
   "execution_count": 17,
   "metadata": {},
   "outputs": [],
   "source": [
    "for line in awe_v_f:\n",
    "    all_v_f.write(line)\n",
    "for line in agwe_v_f:\n",
    "    all_v_f.write(line)\n",
    "    \n",
    "for line in awe_w_f:\n",
    "    line = line.split(',')\n",
    "    line = line[0] + ' (AWE) ,' + line[1] + ',' + line[2]\n",
    "    all_w_f.write(line)\n",
    "    \n",
    "for line in agwe_w_f:\n",
    "    line = line.split(',')\n",
    "    line = line[0] + ' (AGWE) ,' + line[1] + ',' + line[2]\n",
    "    all_w_f.write(line)\n",
    "    \n",
    "all_w_f.close()\n",
    "all_v_f.close()"
   ]
  },
  {
   "cell_type": "code",
   "execution_count": null,
   "metadata": {},
   "outputs": [],
   "source": []
  },
  {
   "cell_type": "code",
   "execution_count": null,
   "metadata": {},
   "outputs": [],
   "source": []
  }
 ],
 "metadata": {
  "kernelspec": {
   "display_name": "Python 3",
   "language": "python",
   "name": "python3"
  },
  "language_info": {
   "codemirror_mode": {
    "name": "ipython",
    "version": 3
   },
   "file_extension": ".py",
   "mimetype": "text/x-python",
   "name": "python",
   "nbconvert_exporter": "python",
   "pygments_lexer": "ipython3",
   "version": "3.7.6"
  }
 },
 "nbformat": 4,
 "nbformat_minor": 2
}
